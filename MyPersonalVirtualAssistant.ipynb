{
 "cells": [
  {
   "cell_type": "code",
   "execution_count": 3,
   "metadata": {},
   "outputs": [
    {
     "name": "stdout",
     "output_type": "stream",
     "text": [
      "Listening...\n",
      "Recognizing...\n",
      "You said: hello\n",
      "\n",
      "Listening...\n",
      "Recognizing...\n",
      "You said: good evening\n",
      "\n",
      "Listening...\n",
      "Recognizing...\n",
      "You said: stop running\n",
      "\n"
     ]
    },
    {
     "ename": "SystemExit",
     "evalue": "",
     "output_type": "error",
     "traceback": [
      "An exception has occurred, use %tb to see the full traceback.\n",
      "\u001b[1;31mSystemExit\u001b[0m\n"
     ]
    },
    {
     "name": "stderr",
     "output_type": "stream",
     "text": [
      "C:\\Users\\Admin\\anaconda3\\lib\\site-packages\\IPython\\core\\interactiveshell.py:3339: UserWarning: To exit: use 'exit', 'quit', or Ctrl-D.\n",
      "  warn(\"To exit: use 'exit', 'quit', or Ctrl-D.\", stacklevel=1)\n"
     ]
    }
   ],
   "source": [
    "import pyttsx3\n",
    "import speech_recognition as sr\n",
    "import pyaudio\n",
    "import datetime\n",
    "import sys\n",
    "\n",
    "engine = pyttsx3.init('sapi5')\n",
    "voices = engine.getProperty('voices')\n",
    "#print(voices[1].id)\n",
    "engine.setProperty('voice',voices[1].id)\n",
    "\n",
    "def speak(audio):\n",
    "    engine.say(audio)\n",
    "    engine.runAndWait()\n",
    "    \n",
    "def wishMe():\n",
    "    hour = int(datetime.datetime.now().hour)\n",
    "    \n",
    "    if hour>=0 and hour<12:\n",
    "        speak(\"Good Morning mam!\")\n",
    "        \n",
    "    elif hour>=12 and hour<17:\n",
    "        speak(\"Good Afternoon mam!\")\n",
    "        \n",
    "    else:\n",
    "        speak(\"Good Evening mam!\")\n",
    "    \n",
    "    speak(\"I am your personal assistant, please tell me how may I help you\")\n",
    "    \n",
    "def takeCommand():\n",
    "    r = sr.Recognizer()\n",
    "    with sr.Microphone() as source:\n",
    "        print(\"Listening...\")\n",
    "        r.pause_threshold = 1\n",
    "        r.energy_threshold = 5000\n",
    "        r.dynamic_energy_threshold = True\n",
    "        audio = r.listen(source)\n",
    "        \n",
    "    try:\n",
    "        print(\"Recognizing...\")\n",
    "        query = r.recognize_google(audio, language='en-in')\n",
    "        print(f\"You said: {query}\\n\")\n",
    "        \n",
    "    except Exception as e:\n",
    "        #print(e)\n",
    "        print(\"Sorry mam, say that again please...\")\n",
    "        speak(\"Sorry mam, say that again please...\")\n",
    "        return \"None\"\n",
    "    return query\n",
    "\n",
    "if __name__ == \"__main__\":\n",
    "    wishMe()\n",
    "    \n",
    "    while True:\n",
    "        query = takeCommand().lower()\n",
    "        \n",
    "        if 'stop running' in query:\n",
    "            speak('Okay mam, Thank you, take care. ')\n",
    "            sys.exit() \n",
    "    \n",
    "        "
   ]
  },
  {
   "cell_type": "code",
   "execution_count": null,
   "metadata": {},
   "outputs": [],
   "source": []
  },
  {
   "cell_type": "code",
   "execution_count": null,
   "metadata": {},
   "outputs": [],
   "source": []
  }
 ],
 "metadata": {
  "kernelspec": {
   "display_name": "Python 3",
   "language": "python",
   "name": "python3"
  },
  "language_info": {
   "codemirror_mode": {
    "name": "ipython",
    "version": 3
   },
   "file_extension": ".py",
   "mimetype": "text/x-python",
   "name": "python",
   "nbconvert_exporter": "python",
   "pygments_lexer": "ipython3",
   "version": "3.7.6"
  }
 },
 "nbformat": 4,
 "nbformat_minor": 4
}
